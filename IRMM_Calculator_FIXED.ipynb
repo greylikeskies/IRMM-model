{
  "nbformat": 4,
  "nbformat_minor": 0,
  "metadata": {
    "colab": {
      "name": "IRMM_Calculator.ipynb",
      "provenance": [],
      "authorship_tag": "generated",
      "include_colab_link": true
    },
    "kernelspec": {
      "name": "python3",
      "display_name": "Python 3"
    },
    "language_info": {
      "name": "python"
    }
  },
  "cells": [
    {
      "cell_type": "markdown",
      "metadata": {},
      "source": [
        "# Interference Resonance Mass Model (IRMM) Calculator\n",
        "Predict particle masses from universal constant interference.\n\n",
        "This tool uses a 3D interference vector constructed from:\n",
        "- log10(\u03c0)\n",
        "- log10(e)\n",
        "- log10(\u0127)"
      ]
    },
    {
      "cell_type": "code",
      "metadata": {},
      "source": [
        "# Setup\n",
        "import numpy as np\n",
        "from sklearn.linear_model import LinearRegression\n",
        "import matplotlib.pyplot as plt\n",
        "from mpl_toolkits.mplot3d import Axes3D\n\n",
        "# Constants\n",
        "PLANCK_MASS = 1.22e22  # MeV\n",
        "C_pi = np.log10(np.pi)\n",
        "C_e = np.log10(np.e)\n",
        "C_hbar = np.log10(6.582e-22)  # MeV\u00b7s\n",
        "CONSTANT_VECTOR = [C_pi, C_e, C_hbar]"
      ],
      "execution_count": null,
      "outputs": []
    },
    {
      "cell_type": "code",
      "metadata": {},
      "source": [
        "# Particle dataset\n",
        "particles = {\n",
        "    'electron': 0.511,\n",
        "    'muon': 105.66,\n",
        "    'tau': 1776.86,\n",
        "    'up': 2.2,\n",
        "    'down': 4.7,\n",
        "    'strange': 96.0,\n",
        "    'charm': 1270.0,\n",
        "    'bottom': 4180.0,\n",
        "    'top': 173100.0,\n",
        "    'proton': 938.27,\n",
        "    'neutron': 939.57\n",
        "}"
      ],
      "execution_count": null,
      "outputs": []
    },
    {
      "cell_type": "code",
      "metadata": {},
      "source": [
        "# Functions\n",
        "def compute_mu(mass_mev):\n",
        "    return np.log10(mass_mev / PLANCK_MASS)\n\n",
        "def interference_vector(mu, constants):\n",
        "    return [mu - c for c in constants]\n\n",
        "def build_dataset(particle_dict):\n",
        "    X, y = [], []\n",
        "    for name, mass in particle_dict.items():\n",
        "        mu = compute_mu(mass)\n",
        "        d = interference_vector(mu, CONSTANT_VECTOR)\n",
        "        X.append(d)\n",
        "        y.append(mu)\n",
        "    return np.array(X), np.array(y)\n\n",
        "def predict_mass(mu_pred):\n",
        "    return 10 ** mu_pred * PLANCK_MASS"
      ],
      "execution_count": null,
      "outputs": []
    },
    {
      "cell_type": "code",
      "metadata": {},
      "source": [
        "# Train and predict\n",
        "X, y = build_dataset(particles)\n",
        "model = LinearRegression().fit(X, y)\n",
        "predictions = model.predict(X)\n\n",
        "print(\"=== Predicted vs Actual Masses ===\")\n",
        "for name, actual_mu, pred_mu in zip(particles.keys(), y, predictions):\n",
        "    actual_mass = predict_mass(actual_mu)\n",
        "    predicted_mass = predict_mass(pred_mu)\n",
        "    print(f\"{name:<10} : Predicted = {predicted_mass:.2f} MeV, Actual = {actual_mass:.2f} MeV, \u0394 = {abs(predicted_mass - actual_mass):.6f}\")"
      ],
      "execution_count": null,
      "outputs": []
    }
  ]
}